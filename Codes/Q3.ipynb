{
  "cells": [
    {
      "cell_type": "markdown",
      "source": [
        "**Afshar - Q3**"
      ],
      "metadata": {
        "id": "O_1doz1g4gCK"
      },
      "id": "O_1doz1g4gCK"
    },
    {
      "cell_type": "markdown",
      "source": [
        "این سوال در مورد عملکرد\n",
        "\n",
        "ftt and conv function\n",
        "\n",
        "در قسمت اول زمان محاسبه اف‌اف‌تی بر حسب طول سیگنال ورودی به آن بدست آمده است که نمودار آن در خروجی چاپ شده."
      ],
      "metadata": {
        "id": "ZHRhfzTWK6tD"
      },
      "id": "ZHRhfzTWK6tD"
    },
    {
      "cell_type": "code",
      "execution_count": null,
      "id": "3c0c8978",
      "metadata": {
        "id": "3c0c8978",
        "outputId": "447ae0e1-2128-4e98-fe6b-fa682bbc7010"
      },
      "outputs": [
        {
          "data": {
            "image/png": "[encoded data removed]",
            "text/plain": [
              "<Figure size 432x288 with 1 Axes>"
            ]
          },
          "metadata": {
            "needs_background": "light"
          },
          "output_type": "display_data"
        }
      ],
      "source": [
        "#part 1 and 2\n",
        "import numpy as np\n",
        "from scipy.fftpack import fft\n",
        "import time\n",
        "\n",
        "N_values = np.arange(1, 51)\n",
        "times = np.zeros(len(N_values))\n",
        "\n",
        "for i, N in enumerate(N_values):\n",
        "    x = np.random.rand(N)\n",
        "    start_time = time.time()\n",
        "    fft(x, N)\n",
        "    times[i] = time.time() - start_time\n",
        "\n",
        "# Plot the results\n",
        "import matplotlib.pyplot as plt\n",
        "plt.figure()\n",
        "plt.plot(N_values, times)\n",
        "plt.xlabel('Length of signal')\n",
        "plt.ylabel('Time for running FFT')\n",
        "plt.show()\n"
      ]
    },
    {
      "cell_type": "markdown",
      "source": [
        "part3\n",
        "\n",
        "به ازای طول سیگنال هایی که توانی از دو هستند عملکرد بهینه تری خواهد داشت"
      ],
      "metadata": {
        "id": "e8rcXwUALZwl"
      },
      "id": "e8rcXwUALZwl"
    },
    {
      "cell_type": "markdown",
      "source": [
        "part4\n",
        "\n",
        "در این قسمت تابع کانوولوشن بررسی شده است. یکبار با استفاده از این تابع و بار دیگر با استفاده از توابع\n",
        "\n",
        "fft and ifft\n",
        "\n",
        "بررسی شده است و خروجی ها به صورت زیر میباشند."
      ],
      "metadata": {
        "id": "WWwJyVLLLrJN"
      },
      "id": "WWwJyVLLLrJN"
    },
    {
      "cell_type": "code",
      "execution_count": null,
      "id": "6f152673",
      "metadata": {
        "id": "6f152673"
      },
      "outputs": [],
      "source": [
        "def conv_python(x, h):\n",
        "    N1 = len(x)\n",
        "    N2 = len(h)\n",
        "    N = N1 + N2 - 1\n",
        "    y = np.zeros(N)\n",
        "    for n in range(N):\n",
        "        for k in range(N1):\n",
        "            if (n-k) < N2 and (n-k) >= 0:\n",
        "                y[n] += x[k]*h[n-k]\n",
        "    return y\n"
      ]
    },
    {
      "cell_type": "code",
      "execution_count": null,
      "id": "bd0da24f",
      "metadata": {
        "id": "bd0da24f",
        "outputId": "9577cc24-0ccf-4405-cd84-bc04ea8637dc"
      },
      "outputs": [
        {
          "name": "stdout",
          "output_type": "stream",
          "text": [
            "For L = 50:\n",
            "Time for numpy.convolve function: 0.007992 s\n",
            "Time for FFT method: 0.000000 s\n",
            "\n",
            "For L = 1000:\n",
            "Time for numpy.convolve function: 1.618336 s\n",
            "Time for FFT method: 0.000998 s\n",
            "\n"
          ]
        }
      ],
      "source": [
        "import numpy as np\n",
        "from scipy.fftpack import fft, ifft\n",
        "import time\n",
        "\n",
        "L_values = [50, 1000]\n",
        "\n",
        "for L in L_values:\n",
        "    x = np.random.normal(0, 1, L)\n",
        "    h = np.random.uniform(0, 1, L)\n",
        "\n",
        "    # Using numpy.convolve function\n",
        "    start_time = time.time()\n",
        "    conv_numpy = conv_python(x, h)\n",
        "    time_numpy = time.time() - start_time\n",
        "\n",
        "    # Using FFT method\n",
        "    N = int(2**np.ceil(np.log2(L + L - 1)))\n",
        "    start_time = time.time()\n",
        "    conv_fft = ifft(fft(x, N) * fft(h, N))\n",
        "    time_fft = time.time() - start_time\n",
        "\n",
        "    print(\"For L = {}:\".format(L))\n",
        "    print(\"Time for numpy.convolve function: {:.6f} s\".format(time_numpy))\n",
        "    print(\"Time for FFT method: {:.6f} s\".format(time_fft))\n",
        "    print()\n"
      ]
    },
    {
      "cell_type": "code",
      "execution_count": null,
      "id": "a332d703",
      "metadata": {
        "id": "a332d703"
      },
      "outputs": [],
      "source": []
    }
  ],
  "metadata": {
    "kernelspec": {
      "display_name": "Python 3 (ipykernel)",
      "language": "python",
      "name": "python3"
    },
    "language_info": {
      "codemirror_mode": {
        "name": "ipython",
        "version": 3
      },
      "file_extension": ".py",
      "mimetype": "text/x-python",
      "name": "python",
      "nbconvert_exporter": "python",
      "pygments_lexer": "ipython3",
      "version": "3.9.7"
    },
    "colab": {
      "provenance": []
    }
  },
  "nbformat": 4,
  "nbformat_minor": 5
}