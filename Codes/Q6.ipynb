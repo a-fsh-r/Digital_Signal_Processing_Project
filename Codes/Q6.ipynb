{
  "cells": [
    {
      "cell_type": "markdown",
      "id": "4eNU8g6UOWQ4",
      "metadata": {
        "id": "4eNU8g6UOWQ4"
      },
      "source": [
        "**Afshar - Q6**\n",
        "\n",
        "*  فایل خروجی نیز داخل فولدر نوتبوک‌ها قرار دارد"
      ]
    },
    {
      "cell_type": "markdown",
      "id": "A-cqOEMVxbw5",
      "metadata": {
        "id": "A-cqOEMVxbw5"
      },
      "source": [
        "1. Read in the clean1.wav and distorted1.wav signals\n",
        "\n",
        "2. Calculate the frequency response of the system\n",
        "\n",
        "3. Take the inverse Fourier transform of the frequency response to get the impulse response\n",
        "\n",
        "4. Read in the distorted2.wav signal\n",
        "\n",
        "5. Use the impulse response to recover the clean2 signal\n",
        "\n",
        "6. remove the imaginary part of the signal\n",
        "\n",
        "7. Save the recovered signal as recovered2.wav"
      ]
    },
    {
      "cell_type": "code",
      "execution_count": null,
      "id": "f9b44aa0",
      "metadata": {
        "id": "f9b44aa0"
      },
      "outputs": [],
      "source": [
        "import numpy as np\n",
        "import scipy.io.wavfile as wav\n",
        "\n",
        "# Read in the clean1.wav and distorted1.wav signals\n",
        "fs, clean1 = wav.read(\"clean1.wav\")\n",
        "fs, distorted1 = wav.read(\"distorted1.wav\")\n",
        "\n",
        "# Calculate the frequency response of the system\n",
        "f_clean1 = np.fft.fft(clean1)\n",
        "f_distorted1 = np.fft.fft(distorted1)\n",
        "H = f_distorted1 / f_clean1\n",
        "\n",
        "# Take the inverse Fourier transform of the frequency response to get the impulse response\n",
        "h = np.fft.ifft(H)\n",
        "\n",
        "if not np.isreal(h).all():\n",
        "    h = np.real(h)\n",
        "\n",
        "# Read in the distorted2.wav signal\n",
        "fs, distorted2 = wav.read(\"distorted2.wav\")\n",
        "\n",
        "# Use the impulse response to recover the clean2 signal\n",
        "recovered2 = np.convolve(distorted2, h)\n",
        "\n",
        "# remove the imaginary part of the signal\n",
        "recovered2 = np.real(recovered2)\n",
        "\n",
        "# Save the recovered signal as recovered2.wav\n",
        "wav.write(\"recovered2.wav\", fs, recovered2)\n"
      ]
    }
  ],
  "metadata": {
    "colab": {
      "provenance": []
    },
    "kernelspec": {
      "display_name": "Python 3 (ipykernel)",
      "language": "python",
      "name": "python3"
    },
    "language_info": {
      "codemirror_mode": {
        "name": "ipython",
        "version": 3
      },
      "file_extension": ".py",
      "mimetype": "text/x-python",
      "name": "python",
      "nbconvert_exporter": "python",
      "pygments_lexer": "ipython3",
      "version": "3.9.7"
    }
  },
  "nbformat": 4,
  "nbformat_minor": 5
}